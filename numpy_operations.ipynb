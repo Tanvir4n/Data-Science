{
 "cells": [
  {
   "cell_type": "markdown",
   "id": "10b2e2d6",
   "metadata": {},
   "source": [
    "### Import NumPy"
   ]
  },
  {
   "cell_type": "code",
   "execution_count": null,
   "id": "943e9425",
   "metadata": {},
   "outputs": [],
   "source": [
    "import numpy as np"
   ]
  },
  {
   "cell_type": "markdown",
   "id": "668c215c",
   "metadata": {},
   "source": [
    "### Creating Arrays"
   ]
  },
  {
   "cell_type": "code",
   "execution_count": null,
   "id": "a458cf5d",
   "metadata": {},
   "outputs": [],
   "source": [
    "arr = np.array([1, 2, 3])\n",
    "print(arr)"
   ]
  },
  {
   "cell_type": "markdown",
   "id": "931edc23",
   "metadata": {},
   "source": [
    "### Array with Zeros"
   ]
  },
  {
   "cell_type": "code",
   "execution_count": null,
   "id": "03568da1",
   "metadata": {},
   "outputs": [],
   "source": [
    "zeros = np.zeros((2, 3))\n",
    "print(zeros)"
   ]
  },
  {
   "cell_type": "markdown",
   "id": "3838ce8a",
   "metadata": {},
   "source": [
    "### Array with Ones"
   ]
  },
  {
   "cell_type": "code",
   "execution_count": null,
   "id": "3f20ec15",
   "metadata": {},
   "outputs": [],
   "source": [
    "ones = np.ones((3, 2))\n",
    "print(ones)"
   ]
  },
  {
   "cell_type": "markdown",
   "id": "657cac14",
   "metadata": {},
   "source": [
    "### Array with Constant Value"
   ]
  },
  {
   "cell_type": "code",
   "execution_count": null,
   "id": "493e936e",
   "metadata": {},
   "outputs": [],
   "source": [
    "full = np.full((2, 2), 7)\n",
    "print(full)"
   ]
  },
  {
   "cell_type": "markdown",
   "id": "cced482b",
   "metadata": {},
   "source": [
    "### Array with Random Values"
   ]
  },
  {
   "cell_type": "code",
   "execution_count": null,
   "id": "5b3a9b71",
   "metadata": {},
   "outputs": [],
   "source": [
    "rand = np.random.rand(3, 3)\n",
    "print(rand)"
   ]
  },
  {
   "cell_type": "markdown",
   "id": "fb654db1",
   "metadata": {},
   "source": [
    "### Array with Range"
   ]
  },
  {
   "cell_type": "code",
   "execution_count": null,
   "id": "be603ca8",
   "metadata": {},
   "outputs": [],
   "source": [
    "range_arr = np.arange(0, 10, 2)\n",
    "print(range_arr)"
   ]
  },
  {
   "cell_type": "markdown",
   "id": "ad207e92",
   "metadata": {},
   "source": [
    "### Reshape Array"
   ]
  },
  {
   "cell_type": "code",
   "execution_count": null,
   "id": "1d18a0ff",
   "metadata": {},
   "outputs": [],
   "source": [
    "a = np.arange(12)\n",
    "reshaped = a.reshape(3, 4)\n",
    "print(reshaped)"
   ]
  },
  {
   "cell_type": "markdown",
   "id": "3287da4d",
   "metadata": {},
   "source": [
    "### Array Indexing"
   ]
  },
  {
   "cell_type": "code",
   "execution_count": null,
   "id": "fd92d197",
   "metadata": {},
   "outputs": [],
   "source": [
    "arr = np.array([10, 20, 30, 40])\n",
    "print(arr[2])"
   ]
  },
  {
   "cell_type": "markdown",
   "id": "8023a3d7",
   "metadata": {},
   "source": [
    "### Array Slicing"
   ]
  },
  {
   "cell_type": "code",
   "execution_count": null,
   "id": "0b949b6b",
   "metadata": {},
   "outputs": [],
   "source": [
    "print(arr[1:3])"
   ]
  },
  {
   "cell_type": "markdown",
   "id": "e7402c92",
   "metadata": {},
   "source": [
    "### Array Iteration"
   ]
  },
  {
   "cell_type": "code",
   "execution_count": null,
   "id": "06eeb86e",
   "metadata": {},
   "outputs": [],
   "source": [
    "for x in arr:\n",
    "    print(x)"
   ]
  },
  {
   "cell_type": "markdown",
   "id": "101ec265",
   "metadata": {},
   "source": [
    "### Array Concatenation"
   ]
  },
  {
   "cell_type": "code",
   "execution_count": null,
   "id": "667b612e",
   "metadata": {},
   "outputs": [],
   "source": [
    "a = np.array([1, 2])\n",
    "b = np.array([3, 4])\n",
    "print(np.concatenate((a, b)))"
   ]
  },
  {
   "cell_type": "markdown",
   "id": "2ecac3cc",
   "metadata": {},
   "source": [
    "### Array Splitting"
   ]
  },
  {
   "cell_type": "code",
   "execution_count": null,
   "id": "eb8c716a",
   "metadata": {},
   "outputs": [],
   "source": [
    "arr = np.array([1, 2, 3, 4, 5, 6])\n",
    "print(np.split(arr, 3))"
   ]
  },
  {
   "cell_type": "markdown",
   "id": "d6357dd0",
   "metadata": {},
   "source": [
    "### Element-wise Addition"
   ]
  },
  {
   "cell_type": "code",
   "execution_count": null,
   "id": "8a6efa85",
   "metadata": {},
   "outputs": [],
   "source": [
    "a = np.array([1, 2, 3])\n",
    "b = np.array([4, 5, 6])\n",
    "print(a + b)"
   ]
  },
  {
   "cell_type": "markdown",
   "id": "0db82847",
   "metadata": {},
   "source": [
    "### Element-wise Subtraction"
   ]
  },
  {
   "cell_type": "code",
   "execution_count": null,
   "id": "09e0f97a",
   "metadata": {},
   "outputs": [],
   "source": [
    "print(a - b)"
   ]
  },
  {
   "cell_type": "markdown",
   "id": "f6496951",
   "metadata": {},
   "source": [
    "### Element-wise Multiplication"
   ]
  },
  {
   "cell_type": "code",
   "execution_count": null,
   "id": "f7a55540",
   "metadata": {},
   "outputs": [],
   "source": [
    "print(a * b)"
   ]
  },
  {
   "cell_type": "markdown",
   "id": "0f8aee3e",
   "metadata": {},
   "source": [
    "### Element-wise Division"
   ]
  },
  {
   "cell_type": "code",
   "execution_count": null,
   "id": "c7032b19",
   "metadata": {},
   "outputs": [],
   "source": [
    "print(a / b)"
   ]
  },
  {
   "cell_type": "markdown",
   "id": "e2a92256",
   "metadata": {},
   "source": [
    "### Dot Product"
   ]
  },
  {
   "cell_type": "code",
   "execution_count": null,
   "id": "a2040de4",
   "metadata": {},
   "outputs": [],
   "source": [
    "print(np.dot(a, b))"
   ]
  },
  {
   "cell_type": "markdown",
   "id": "5d1a1df0",
   "metadata": {},
   "source": [
    "### Matrix Multiplication"
   ]
  },
  {
   "cell_type": "code",
   "execution_count": null,
   "id": "4d615efe",
   "metadata": {},
   "outputs": [],
   "source": [
    "mat1 = np.array([[1, 2], [3, 4]])\n",
    "mat2 = np.array([[5, 6], [7, 8]])\n",
    "print(np.matmul(mat1, mat2))"
   ]
  },
  {
   "cell_type": "markdown",
   "id": "192e2723",
   "metadata": {},
   "source": [
    "### Transpose"
   ]
  },
  {
   "cell_type": "code",
   "execution_count": null,
   "id": "a30db0a7",
   "metadata": {},
   "outputs": [],
   "source": [
    "print(mat1.T)"
   ]
  },
  {
   "cell_type": "markdown",
   "id": "0e71e713",
   "metadata": {},
   "source": [
    "### Max/Min Values"
   ]
  },
  {
   "cell_type": "code",
   "execution_count": null,
   "id": "a7b130eb",
   "metadata": {},
   "outputs": [],
   "source": [
    "arr = np.array([1, 2, 3, 4])\n",
    "print(np.max(arr), np.min(arr))"
   ]
  },
  {
   "cell_type": "markdown",
   "id": "3bc667e3",
   "metadata": {},
   "source": [
    "### Mean/Median"
   ]
  },
  {
   "cell_type": "code",
   "execution_count": null,
   "id": "46be6910",
   "metadata": {},
   "outputs": [],
   "source": [
    "print(np.mean(arr), np.median(arr))"
   ]
  },
  {
   "cell_type": "markdown",
   "id": "60bf938f",
   "metadata": {},
   "source": [
    "### Standard Deviation"
   ]
  },
  {
   "cell_type": "code",
   "execution_count": null,
   "id": "8ea9abec",
   "metadata": {},
   "outputs": [],
   "source": [
    "print(np.std(arr))"
   ]
  },
  {
   "cell_type": "markdown",
   "id": "b6856881",
   "metadata": {},
   "source": [
    "### Sorting"
   ]
  },
  {
   "cell_type": "code",
   "execution_count": null,
   "id": "c7d2b400",
   "metadata": {},
   "outputs": [],
   "source": [
    "unsorted = np.array([4, 1, 3, 2])\n",
    "print(np.sort(unsorted))"
   ]
  },
  {
   "cell_type": "markdown",
   "id": "7528abbc",
   "metadata": {},
   "source": [
    "### Unique Values"
   ]
  },
  {
   "cell_type": "code",
   "execution_count": null,
   "id": "d4a6dc8a",
   "metadata": {},
   "outputs": [],
   "source": [
    "arr = np.array([1, 2, 1, 4, 2])\n",
    "print(np.unique(arr))"
   ]
  },
  {
   "cell_type": "markdown",
   "id": "46cff561",
   "metadata": {},
   "source": [
    "### Where Condition"
   ]
  },
  {
   "cell_type": "code",
   "execution_count": null,
   "id": "5ab105de",
   "metadata": {},
   "outputs": [],
   "source": [
    "arr = np.array([10, 20, 30, 40])\n",
    "print(np.where(arr > 25))"
   ]
  },
  {
   "cell_type": "markdown",
   "id": "1d752e7b",
   "metadata": {},
   "source": [
    "### Broadcasting"
   ]
  },
  {
   "cell_type": "code",
   "execution_count": null,
   "id": "74db3d7b",
   "metadata": {},
   "outputs": [],
   "source": [
    "a = np.array([1, 2, 3])\n",
    "print(a + 5)"
   ]
  },
  {
   "cell_type": "markdown",
   "id": "0d1c82eb",
   "metadata": {},
   "source": [
    "### Boolean Masking"
   ]
  },
  {
   "cell_type": "code",
   "execution_count": null,
   "id": "3c576586",
   "metadata": {},
   "outputs": [],
   "source": [
    "print(arr[arr > 25])"
   ]
  },
  {
   "cell_type": "markdown",
   "id": "72aa9ee5",
   "metadata": {},
   "source": [
    "### Flatten Array"
   ]
  },
  {
   "cell_type": "code",
   "execution_count": null,
   "id": "9af15200",
   "metadata": {},
   "outputs": [],
   "source": [
    "a = np.array([[1, 2], [3, 4]])\n",
    "print(a.flatten())"
   ]
  },
  {
   "cell_type": "markdown",
   "id": "50575df4",
   "metadata": {},
   "source": [
    "### Identity Matrix"
   ]
  },
  {
   "cell_type": "code",
   "execution_count": null,
   "id": "6123d0c6",
   "metadata": {},
   "outputs": [],
   "source": [
    "print(np.eye(3))"
   ]
  }
 ],
 "metadata": {},
 "nbformat": 4,
 "nbformat_minor": 5
}
