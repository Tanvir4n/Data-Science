{
 "cells": [
  {
   "cell_type": "code",
   "execution_count": 137,
   "id": "8f5d0a55",
   "metadata": {},
   "outputs": [],
   "source": [
    "import pandas as pd"
   ]
  },
  {
   "cell_type": "code",
   "execution_count": 138,
   "id": "44c374d3",
   "metadata": {},
   "outputs": [
    {
     "name": "stdout",
     "output_type": "stream",
     "text": [
      "a    10\n",
      "b    20\n",
      "c    30\n",
      "d    40\n",
      "dtype: int64\n"
     ]
    }
   ],
   "source": [
    "s = pd.Series([10, 20, 30, 40], index=['a', 'b', 'c', 'd'])\n",
    "print(s)"
   ]
  },
  {
   "cell_type": "code",
   "execution_count": 139,
   "id": "74a395f3",
   "metadata": {},
   "outputs": [
    {
     "name": "stdout",
     "output_type": "stream",
     "text": [
      "      Name  Age        City\n",
      "0    Alice   25       Dhaka\n",
      "1      Bob   30  Chittagong\n",
      "2  Charlie   35      Khulna\n"
     ]
    }
   ],
   "source": [
    "data = {\n",
    "    'Name': ['Alice', 'Bob', 'Charlie'],\n",
    "    'Age': [25, 30, 35],\n",
    "    'City': ['Dhaka', 'Chittagong', 'Khulna']\n",
    "}\n",
    "df = pd.DataFrame(data)\n",
    "print(df)"
   ]
  },
  {
   "cell_type": "code",
   "execution_count": 140,
   "id": "0dc448da",
   "metadata": {},
   "outputs": [
    {
     "name": "stdout",
     "output_type": "stream",
     "text": [
      "      Name  Age                  City         Full Name  Department  Salary  \\\n",
      "0    Erica   55       East Coreymouth       Erica Riley          IT   79044   \n",
      "1  Kenneth   21  North Elizabethville  Kenneth Williams  Operations   67003   \n",
      "2    Kevin   53       East Rubenville        Kevin Sims     Finance   40877   \n",
      "3  Felicia   55             Tylerland     Felicia Price  Operations   88578   \n",
      "4  Jeffrey   28           Ellisonport    Jeffrey Baxter  Operations   31078   \n",
      "\n",
      "    Join Date  \n",
      "0  2015-12-30  \n",
      "1  2020-09-15  \n",
      "2  2018-04-27  \n",
      "3  2018-10-20  \n",
      "4  2015-09-05  \n"
     ]
    }
   ],
   "source": [
    "df = pd.read_csv('https://raw.githubusercontent.com/Tanvir4n/Data-Science/refs/heads/main/full_data_1000.csv')  # replace with actual file path\n",
    "print(df.head())"
   ]
  },
  {
   "cell_type": "code",
   "execution_count": 141,
   "id": "e3411b4d",
   "metadata": {},
   "outputs": [],
   "source": [
    "df.to_csv('output.csv', index=False)"
   ]
  },
  {
   "cell_type": "code",
   "execution_count": 142,
   "id": "6cec64c5",
   "metadata": {},
   "outputs": [
    {
     "name": "stdout",
     "output_type": "stream",
     "text": [
      "      Name  Age                  City         Full Name  Department  Salary  \\\n",
      "0    Erica   55       East Coreymouth       Erica Riley          IT   79044   \n",
      "1  Kenneth   21  North Elizabethville  Kenneth Williams  Operations   67003   \n",
      "2    Kevin   53       East Rubenville        Kevin Sims     Finance   40877   \n",
      "3  Felicia   55             Tylerland     Felicia Price  Operations   88578   \n",
      "4  Jeffrey   28           Ellisonport    Jeffrey Baxter  Operations   31078   \n",
      "\n",
      "    Join Date  \n",
      "0  2015-12-30  \n",
      "1  2020-09-15  \n",
      "2  2018-04-27  \n",
      "3  2018-10-20  \n",
      "4  2015-09-05  \n"
     ]
    }
   ],
   "source": [
    "print(df.head())"
   ]
  },
  {
   "cell_type": "code",
   "execution_count": 143,
   "id": "82034ccc",
   "metadata": {},
   "outputs": [
    {
     "name": "stdout",
     "output_type": "stream",
     "text": [
      "         Name  Age            City           Full Name Department  Salary  \\\n",
      "995     Julia   54     West Andrea         Julia Ellis    Finance   81521   \n",
      "996    Joshua   58          Listad     Joshua Martinez         IT   31002   \n",
      "997  Michelle   44      Tanyamouth      Michelle James    Finance   84397   \n",
      "998    Joshua   20  Lake Lauratown        Joshua Kelly         HR   71352   \n",
      "999  Margaret   35    East Brandon  Margaret Fernandez  Marketing   71134   \n",
      "\n",
      "      Join Date  \n",
      "995  2019-05-04  \n",
      "996  2022-11-27  \n",
      "997  2021-06-25  \n",
      "998  2017-04-21  \n",
      "999  2023-09-25  \n"
     ]
    }
   ],
   "source": [
    "print(df.tail())"
   ]
  },
  {
   "cell_type": "code",
   "execution_count": 144,
   "id": "338aad4e",
   "metadata": {},
   "outputs": [
    {
     "name": "stdout",
     "output_type": "stream",
     "text": [
      "<class 'pandas.core.frame.DataFrame'>\n",
      "RangeIndex: 1000 entries, 0 to 999\n",
      "Data columns (total 7 columns):\n",
      " #   Column      Non-Null Count  Dtype \n",
      "---  ------      --------------  ----- \n",
      " 0   Name        1000 non-null   object\n",
      " 1   Age         1000 non-null   int64 \n",
      " 2   City        1000 non-null   object\n",
      " 3   Full Name   1000 non-null   object\n",
      " 4   Department  1000 non-null   object\n",
      " 5   Salary      1000 non-null   int64 \n",
      " 6   Join Date   1000 non-null   object\n",
      "dtypes: int64(2), object(5)\n",
      "memory usage: 54.8+ KB\n",
      "None\n"
     ]
    }
   ],
   "source": [
    "print(df.info())"
   ]
  },
  {
   "cell_type": "code",
   "execution_count": 145,
   "id": "fef7a415",
   "metadata": {},
   "outputs": [
    {
     "name": "stdout",
     "output_type": "stream",
     "text": [
      "               Age        Salary\n",
      "count  1000.000000   1000.000000\n",
      "mean     40.231000  63460.307000\n",
      "std      11.668496  20474.631841\n",
      "min      20.000000  30043.000000\n",
      "25%      30.000000  45375.000000\n",
      "50%      40.000000  63083.000000\n",
      "75%      50.000000  80039.500000\n",
      "max      60.000000  99935.000000\n"
     ]
    }
   ],
   "source": [
    "print(df.describe())"
   ]
  },
  {
   "cell_type": "code",
   "execution_count": 146,
   "id": "09024ed3",
   "metadata": {},
   "outputs": [
    {
     "name": "stdout",
     "output_type": "stream",
     "text": [
      "0         Erica\n",
      "1       Kenneth\n",
      "2         Kevin\n",
      "3       Felicia\n",
      "4       Jeffrey\n",
      "         ...   \n",
      "995       Julia\n",
      "996      Joshua\n",
      "997    Michelle\n",
      "998      Joshua\n",
      "999    Margaret\n",
      "Name: Name, Length: 1000, dtype: object\n"
     ]
    }
   ],
   "source": [
    "print(df['Name'])"
   ]
  },
  {
   "cell_type": "code",
   "execution_count": 147,
   "id": "0e12a6a9",
   "metadata": {},
   "outputs": [
    {
     "name": "stdout",
     "output_type": "stream",
     "text": [
      "Name                    Erica\n",
      "Age                        55\n",
      "City          East Coreymouth\n",
      "Full Name         Erica Riley\n",
      "Department                 IT\n",
      "Salary                  79044\n",
      "Join Date          2015-12-30\n",
      "Name: 0, dtype: object\n"
     ]
    }
   ],
   "source": [
    "print(df.loc[0])"
   ]
  },
  {
   "cell_type": "code",
   "execution_count": 148,
   "id": "7d99106e",
   "metadata": {},
   "outputs": [
    {
     "name": "stdout",
     "output_type": "stream",
     "text": [
      "Name                    Erica\n",
      "Age                        55\n",
      "City          East Coreymouth\n",
      "Full Name         Erica Riley\n",
      "Department                 IT\n",
      "Salary                  79044\n",
      "Join Date          2015-12-30\n",
      "Name: 0, dtype: object\n"
     ]
    }
   ],
   "source": [
    "print(df.iloc[0])"
   ]
  },
  {
   "cell_type": "code",
   "execution_count": 149,
   "id": "359b745b",
   "metadata": {},
   "outputs": [
    {
     "name": "stdout",
     "output_type": "stream",
     "text": [
      "         Name  Age             City           Full Name  Department  Salary  \\\n",
      "0       Erica   55  East Coreymouth         Erica Riley          IT   79044   \n",
      "2       Kevin   53  East Rubenville          Kevin Sims     Finance   40877   \n",
      "3     Felicia   55        Tylerland       Felicia Price  Operations   88578   \n",
      "4     Jeffrey   28      Ellisonport      Jeffrey Baxter  Operations   31078   \n",
      "5       Derek   36    Hernandezport     Derek Davenport  Operations   38625   \n",
      "..        ...  ...              ...                 ...         ...     ...   \n",
      "994    Rhonda   40      Lake Robert     Rhonda Griffith          IT   95957   \n",
      "995     Julia   54      West Andrea         Julia Ellis     Finance   81521   \n",
      "996    Joshua   58           Listad     Joshua Martinez          IT   31002   \n",
      "997  Michelle   44       Tanyamouth      Michelle James     Finance   84397   \n",
      "999  Margaret   35     East Brandon  Margaret Fernandez   Marketing   71134   \n",
      "\n",
      "      Join Date  \n",
      "0    2015-12-30  \n",
      "2    2018-04-27  \n",
      "3    2018-10-20  \n",
      "4    2015-09-05  \n",
      "5    2020-01-30  \n",
      "..          ...  \n",
      "994  2018-01-27  \n",
      "995  2019-05-04  \n",
      "996  2022-11-27  \n",
      "997  2021-06-25  \n",
      "999  2023-09-25  \n",
      "\n",
      "[861 rows x 7 columns]\n"
     ]
    }
   ],
   "source": [
    "print(df[df['Age'] > 25])"
   ]
  },
  {
   "cell_type": "code",
   "execution_count": 150,
   "id": "9bdf0475",
   "metadata": {},
   "outputs": [
    {
     "name": "stdout",
     "output_type": "stream",
     "text": [
      "         Name  Age                  City           Full Name  Department  \\\n",
      "0       Erica   55       East Coreymouth         Erica Riley          IT   \n",
      "1     Kenneth   21  North Elizabethville    Kenneth Williams  Operations   \n",
      "2       Kevin   53       East Rubenville          Kevin Sims     Finance   \n",
      "3     Felicia   55             Tylerland       Felicia Price  Operations   \n",
      "4     Jeffrey   28           Ellisonport      Jeffrey Baxter  Operations   \n",
      "..        ...  ...                   ...                 ...         ...   \n",
      "995     Julia   54           West Andrea         Julia Ellis     Finance   \n",
      "996    Joshua   58                Listad     Joshua Martinez          IT   \n",
      "997  Michelle   44            Tanyamouth      Michelle James     Finance   \n",
      "998    Joshua   20        Lake Lauratown        Joshua Kelly          HR   \n",
      "999  Margaret   35          East Brandon  Margaret Fernandez   Marketing   \n",
      "\n",
      "     Salary   Join Date  \n",
      "0     80800  2015-12-30  \n",
      "1     80800  2020-09-15  \n",
      "2     80800  2018-04-27  \n",
      "3     80800  2018-10-20  \n",
      "4     80800  2015-09-05  \n",
      "..      ...         ...  \n",
      "995   80800  2019-05-04  \n",
      "996   80800  2022-11-27  \n",
      "997   80800  2021-06-25  \n",
      "998   80800  2017-04-21  \n",
      "999   80800  2023-09-25  \n",
      "\n",
      "[1000 rows x 7 columns]\n"
     ]
    }
   ],
   "source": [
    "#df['Salary'] = [50000, 60000, 70000]\n",
    "df['Salary'] = 80800  # Assigns 80800 to all 1080 rows\n",
    "print(df)"
   ]
  },
  {
   "cell_type": "code",
   "execution_count": 151,
   "id": "df5f8394",
   "metadata": {},
   "outputs": [
    {
     "name": "stdout",
     "output_type": "stream",
     "text": [
      "         Name  Age           Full Name  Department  Salary   Join Date\n",
      "0       Erica   55         Erica Riley          IT   80800  2015-12-30\n",
      "1     Kenneth   21    Kenneth Williams  Operations   80800  2020-09-15\n",
      "2       Kevin   53          Kevin Sims     Finance   80800  2018-04-27\n",
      "3     Felicia   55       Felicia Price  Operations   80800  2018-10-20\n",
      "4     Jeffrey   28      Jeffrey Baxter  Operations   80800  2015-09-05\n",
      "..        ...  ...                 ...         ...     ...         ...\n",
      "995     Julia   54         Julia Ellis     Finance   80800  2019-05-04\n",
      "996    Joshua   58     Joshua Martinez          IT   80800  2022-11-27\n",
      "997  Michelle   44      Michelle James     Finance   80800  2021-06-25\n",
      "998    Joshua   20        Joshua Kelly          HR   80800  2017-04-21\n",
      "999  Margaret   35  Margaret Fernandez   Marketing   80800  2023-09-25\n",
      "\n",
      "[1000 rows x 6 columns]\n"
     ]
    }
   ],
   "source": [
    "df = df.drop(columns=['City'])\n",
    "print(df)"
   ]
  },
  {
   "cell_type": "code",
   "execution_count": 152,
   "id": "f94b6c43",
   "metadata": {},
   "outputs": [
    {
     "name": "stdout",
     "output_type": "stream",
     "text": [
      "    Full Name  Age           Full Name  Department  Salary   Join Date\n",
      "0       Erica   55         Erica Riley          IT   80800  2015-12-30\n",
      "1     Kenneth   21    Kenneth Williams  Operations   80800  2020-09-15\n",
      "2       Kevin   53          Kevin Sims     Finance   80800  2018-04-27\n",
      "3     Felicia   55       Felicia Price  Operations   80800  2018-10-20\n",
      "4     Jeffrey   28      Jeffrey Baxter  Operations   80800  2015-09-05\n",
      "..        ...  ...                 ...         ...     ...         ...\n",
      "995     Julia   54         Julia Ellis     Finance   80800  2019-05-04\n",
      "996    Joshua   58     Joshua Martinez          IT   80800  2022-11-27\n",
      "997  Michelle   44      Michelle James     Finance   80800  2021-06-25\n",
      "998    Joshua   20        Joshua Kelly          HR   80800  2017-04-21\n",
      "999  Margaret   35  Margaret Fernandez   Marketing   80800  2023-09-25\n",
      "\n",
      "[1000 rows x 6 columns]\n"
     ]
    }
   ],
   "source": [
    "df = df.rename(columns={'Name': 'Full Name'})\n",
    "print(df)"
   ]
  },
  {
   "cell_type": "code",
   "execution_count": 153,
   "id": "79db8a46",
   "metadata": {},
   "outputs": [
    {
     "name": "stdout",
     "output_type": "stream",
     "text": [
      "    Full Name  Age           Full Name  Department  Salary   Join Date\n",
      "0       Erica   55         Erica Riley          IT   80800  2015-12-30\n",
      "1     Kenneth   21    Kenneth Williams  Operations   80800  2020-09-15\n",
      "2       Kevin   53          Kevin Sims     Finance   80800  2018-04-27\n",
      "3     Felicia   55       Felicia Price  Operations   80800  2018-10-20\n",
      "4     Jeffrey   28      Jeffrey Baxter  Operations   80800  2015-09-05\n",
      "..        ...  ...                 ...         ...     ...         ...\n",
      "995     Julia   54         Julia Ellis     Finance   80800  2019-05-04\n",
      "996    Joshua   58     Joshua Martinez          IT   80800  2022-11-27\n",
      "997  Michelle   44      Michelle James     Finance   80800  2021-06-25\n",
      "998    Joshua   20        Joshua Kelly          HR   80800  2017-04-21\n",
      "999  Margaret   35  Margaret Fernandez   Marketing   80800  2023-09-25\n",
      "\n",
      "[1000 rows x 6 columns]\n"
     ]
    }
   ],
   "source": [
    "df['Full Name'] = df['Full Name'].replace('Alice', 'Alicia')\n",
    "print(df)"
   ]
  },
  {
   "cell_type": "code",
   "execution_count": 154,
   "id": "eae8061b",
   "metadata": {},
   "outputs": [
    {
     "name": "stdout",
     "output_type": "stream",
     "text": [
      "    Full Name  Age           Full Name  Department  Salary   Join Date\n",
      "0       Erica   55         Erica Riley          IT   80800  2015-12-30\n",
      "1     Kenneth   21    Kenneth Williams  Operations   80800  2020-09-15\n",
      "2       Kevin   53          Kevin Sims     Finance   80800  2018-04-27\n",
      "3     Felicia   55       Felicia Price  Operations   80800  2018-10-20\n",
      "4     Jeffrey   28      Jeffrey Baxter  Operations   80800  2015-09-05\n",
      "..        ...  ...                 ...         ...     ...         ...\n",
      "995     Julia   54         Julia Ellis     Finance   80800  2019-05-04\n",
      "996    Joshua   58     Joshua Martinez          IT   80800  2022-11-27\n",
      "997  Michelle   44      Michelle James     Finance   80800  2021-06-25\n",
      "998    Joshua   20        Joshua Kelly          HR   80800  2017-04-21\n",
      "999  Margaret   35  Margaret Fernandez   Marketing   80800  2023-09-25\n",
      "\n",
      "[1000 rows x 6 columns]\n"
     ]
    }
   ],
   "source": [
    "df.fillna(value='Unknown', inplace=True)\n",
    "print(df)"
   ]
  },
  {
   "cell_type": "code",
   "execution_count": 155,
   "id": "0c9dc35a",
   "metadata": {},
   "outputs": [
    {
     "name": "stdout",
     "output_type": "stream",
     "text": [
      "    Full Name  Age           Full Name  Department  Salary   Join Date\n",
      "0       Erica   55         Erica Riley          IT   80800  2015-12-30\n",
      "1     Kenneth   21    Kenneth Williams  Operations   80800  2020-09-15\n",
      "2       Kevin   53          Kevin Sims     Finance   80800  2018-04-27\n",
      "3     Felicia   55       Felicia Price  Operations   80800  2018-10-20\n",
      "4     Jeffrey   28      Jeffrey Baxter  Operations   80800  2015-09-05\n",
      "..        ...  ...                 ...         ...     ...         ...\n",
      "995     Julia   54         Julia Ellis     Finance   80800  2019-05-04\n",
      "996    Joshua   58     Joshua Martinez          IT   80800  2022-11-27\n",
      "997  Michelle   44      Michelle James     Finance   80800  2021-06-25\n",
      "998    Joshua   20        Joshua Kelly          HR   80800  2017-04-21\n",
      "999  Margaret   35  Margaret Fernandez   Marketing   80800  2023-09-25\n",
      "\n",
      "[1000 rows x 6 columns]\n"
     ]
    }
   ],
   "source": [
    "df = df.dropna()\n",
    "print(df)"
   ]
  },
  {
   "cell_type": "code",
   "execution_count": 156,
   "id": "f0ebab6f",
   "metadata": {},
   "outputs": [
    {
     "name": "stdout",
     "output_type": "stream",
     "text": [
      "Full Name      object\n",
      "Age           float64\n",
      "Full Name      object\n",
      "Department     object\n",
      "Salary          int64\n",
      "Join Date      object\n",
      "dtype: object\n"
     ]
    }
   ],
   "source": [
    "df['Age'] = df['Age'].astype(float)\n",
    "print(df.dtypes)"
   ]
  },
  {
   "cell_type": "code",
   "execution_count": 157,
   "id": "fcd73380",
   "metadata": {},
   "outputs": [
    {
     "name": "stdout",
     "output_type": "stream",
     "text": [
      "     Full Name   Age        Full Name  Department  Salary   Join Date\n",
      "70    Jennifer  20.0  Jennifer Hebert          IT   80800  2020-11-04\n",
      "58   Frederick  20.0  Frederick Boyer  Operations   80800  2024-02-22\n",
      "897     Samuel  20.0     Samuel Perez  Operations   80800  2015-08-09\n",
      "715     Parker  20.0     Parker Lopez  Operations   80800  2024-09-10\n",
      "966     Marcus  20.0     Marcus Cowan   Marketing   80800  2015-05-12\n",
      "..         ...   ...              ...         ...     ...         ...\n",
      "197      Julie  60.0     Julie Martin          HR   80800  2022-10-10\n",
      "164      David  60.0    David Ellison          IT   80800  2019-09-15\n",
      "77    Angelica  60.0   Angelica Perez  Operations   80800  2022-01-20\n",
      "85       Tonya  60.0      Tonya Kelly          IT   80800  2021-04-09\n",
      "84       David  60.0     David Garcia     Finance   80800  2024-07-23\n",
      "\n",
      "[1000 rows x 6 columns]\n"
     ]
    }
   ],
   "source": [
    "print(df.sort_values(by='Age'))"
   ]
  },
  {
   "cell_type": "code",
   "execution_count": 158,
   "id": "eada8b32",
   "metadata": {},
   "outputs": [
    {
     "name": "stdout",
     "output_type": "stream",
     "text": [
      "    Full Name   Age           Full Name  Department  Salary   Join Date\n",
      "0       Erica  55.0         Erica Riley          IT   80800  2015-12-30\n",
      "1     Kenneth  21.0    Kenneth Williams  Operations   80800  2020-09-15\n",
      "2       Kevin  53.0          Kevin Sims     Finance   80800  2018-04-27\n",
      "3     Felicia  55.0       Felicia Price  Operations   80800  2018-10-20\n",
      "4     Jeffrey  28.0      Jeffrey Baxter  Operations   80800  2015-09-05\n",
      "..        ...   ...                 ...         ...     ...         ...\n",
      "995     Julia  54.0         Julia Ellis     Finance   80800  2019-05-04\n",
      "996    Joshua  58.0     Joshua Martinez          IT   80800  2022-11-27\n",
      "997  Michelle  44.0      Michelle James     Finance   80800  2021-06-25\n",
      "998    Joshua  20.0        Joshua Kelly          HR   80800  2017-04-21\n",
      "999  Margaret  35.0  Margaret Fernandez   Marketing   80800  2023-09-25\n",
      "\n",
      "[1000 rows x 6 columns]\n"
     ]
    }
   ],
   "source": [
    "df = df.reset_index(drop=True)\n",
    "print(df)"
   ]
  },
  {
   "cell_type": "code",
   "execution_count": 159,
   "id": "bc469977",
   "metadata": {},
   "outputs": [
    {
     "name": "stdout",
     "output_type": "stream",
     "text": [
      "                                 Age  Department  Salary   Join Date\n",
      "Full Name                                                           \n",
      "(Erica, Erica Riley)            55.0          IT   80800  2015-12-30\n",
      "(Kenneth, Kenneth Williams)     21.0  Operations   80800  2020-09-15\n",
      "(Kevin, Kevin Sims)             53.0     Finance   80800  2018-04-27\n",
      "(Felicia, Felicia Price)        55.0  Operations   80800  2018-10-20\n",
      "(Jeffrey, Jeffrey Baxter)       28.0  Operations   80800  2015-09-05\n",
      "...                              ...         ...     ...         ...\n",
      "(Julia, Julia Ellis)            54.0     Finance   80800  2019-05-04\n",
      "(Joshua, Joshua Martinez)       58.0          IT   80800  2022-11-27\n",
      "(Michelle, Michelle James)      44.0     Finance   80800  2021-06-25\n",
      "(Joshua, Joshua Kelly)          20.0          HR   80800  2017-04-21\n",
      "(Margaret, Margaret Fernandez)  35.0   Marketing   80800  2023-09-25\n",
      "\n",
      "[1000 rows x 4 columns]\n"
     ]
    }
   ],
   "source": [
    "df = df.set_index('Full Name')\n",
    "print(df)"
   ]
  },
  {
   "cell_type": "code",
   "execution_count": 160,
   "id": "583f6824",
   "metadata": {},
   "outputs": [
    {
     "name": "stdout",
     "output_type": "stream",
     "text": [
      "                                 Age  Department  Salary   Join Date  \\\n",
      "Full Name                                                              \n",
      "(Erica, Erica Riley)            55.0          IT   80800  2015-12-30   \n",
      "(Kenneth, Kenneth Williams)     21.0  Operations   80800  2020-09-15   \n",
      "(Kevin, Kevin Sims)             53.0     Finance   80800  2018-04-27   \n",
      "(Felicia, Felicia Price)        55.0  Operations   80800  2018-10-20   \n",
      "(Jeffrey, Jeffrey Baxter)       28.0  Operations   80800  2015-09-05   \n",
      "...                              ...         ...     ...         ...   \n",
      "(Julia, Julia Ellis)            54.0     Finance   80800  2019-05-04   \n",
      "(Joshua, Joshua Martinez)       58.0          IT   80800  2022-11-27   \n",
      "(Michelle, Michelle James)      44.0     Finance   80800  2021-06-25   \n",
      "(Joshua, Joshua Kelly)          20.0          HR   80800  2017-04-21   \n",
      "(Margaret, Margaret Fernandez)  35.0   Marketing   80800  2023-09-25   \n",
      "\n",
      "                                Age Plus 5  \n",
      "Full Name                                   \n",
      "(Erica, Erica Riley)                  60.0  \n",
      "(Kenneth, Kenneth Williams)           26.0  \n",
      "(Kevin, Kevin Sims)                   58.0  \n",
      "(Felicia, Felicia Price)              60.0  \n",
      "(Jeffrey, Jeffrey Baxter)             33.0  \n",
      "...                                    ...  \n",
      "(Julia, Julia Ellis)                  59.0  \n",
      "(Joshua, Joshua Martinez)             63.0  \n",
      "(Michelle, Michelle James)            49.0  \n",
      "(Joshua, Joshua Kelly)                25.0  \n",
      "(Margaret, Margaret Fernandez)        40.0  \n",
      "\n",
      "[1000 rows x 5 columns]\n"
     ]
    }
   ],
   "source": [
    "df['Age Plus 5'] = df['Age'].apply(lambda x: x + 5)\n",
    "print(df)"
   ]
  },
  {
   "cell_type": "code",
   "execution_count": 161,
   "id": "c4629698",
   "metadata": {},
   "outputs": [
    {
     "name": "stdout",
     "output_type": "stream",
     "text": [
      "       Salary  Age Plus 5\n",
      "Age                      \n",
      "20.0  80800.0        25.0\n",
      "21.0  80800.0        26.0\n",
      "22.0  80800.0        27.0\n",
      "23.0  80800.0        28.0\n",
      "24.0  80800.0        29.0\n",
      "25.0  80800.0        30.0\n",
      "26.0  80800.0        31.0\n",
      "27.0  80800.0        32.0\n",
      "28.0  80800.0        33.0\n",
      "29.0  80800.0        34.0\n",
      "30.0  80800.0        35.0\n",
      "31.0  80800.0        36.0\n",
      "32.0  80800.0        37.0\n",
      "33.0  80800.0        38.0\n",
      "34.0  80800.0        39.0\n",
      "35.0  80800.0        40.0\n",
      "36.0  80800.0        41.0\n",
      "37.0  80800.0        42.0\n",
      "38.0  80800.0        43.0\n",
      "39.0  80800.0        44.0\n",
      "40.0  80800.0        45.0\n",
      "41.0  80800.0        46.0\n",
      "42.0  80800.0        47.0\n",
      "43.0  80800.0        48.0\n",
      "44.0  80800.0        49.0\n",
      "45.0  80800.0        50.0\n",
      "46.0  80800.0        51.0\n",
      "47.0  80800.0        52.0\n",
      "48.0  80800.0        53.0\n",
      "49.0  80800.0        54.0\n",
      "50.0  80800.0        55.0\n",
      "51.0  80800.0        56.0\n",
      "52.0  80800.0        57.0\n",
      "53.0  80800.0        58.0\n",
      "54.0  80800.0        59.0\n",
      "55.0  80800.0        60.0\n",
      "56.0  80800.0        61.0\n",
      "57.0  80800.0        62.0\n",
      "58.0  80800.0        63.0\n",
      "59.0  80800.0        64.0\n",
      "60.0  80800.0        65.0\n"
     ]
    }
   ],
   "source": [
    "grouped = df.groupby('Age').mean(numeric_only=True)\n",
    "print(grouped)"
   ]
  },
  {
   "cell_type": "code",
   "execution_count": 162,
   "id": "00a801cb",
   "metadata": {},
   "outputs": [
    {
     "name": "stdout",
     "output_type": "stream",
     "text": [
      "       Age  Department  Salary   Join Date  Age Plus 5 Full Name\n",
      "0     55.0          IT   80800  2015-12-30        60.0       NaN\n",
      "1     21.0  Operations   80800  2020-09-15        26.0       NaN\n",
      "2     53.0     Finance   80800  2018-04-27        58.0       NaN\n",
      "3     55.0  Operations   80800  2018-10-20        60.0       NaN\n",
      "4     28.0  Operations   80800  2015-09-05        33.0       NaN\n",
      "...    ...         ...     ...         ...         ...       ...\n",
      "996   58.0          IT   80800  2022-11-27        63.0       NaN\n",
      "997   44.0     Finance   80800  2021-06-25        49.0       NaN\n",
      "998   20.0          HR   80800  2017-04-21        25.0       NaN\n",
      "999   35.0   Marketing   80800  2023-09-25        40.0       NaN\n",
      "1000  28.0         NaN   65000         NaN         NaN     David\n",
      "\n",
      "[1001 rows x 6 columns]\n"
     ]
    }
   ],
   "source": [
    "df2 = pd.DataFrame({'Full Name': ['David'], 'Age': [28], 'Salary': [65000]})\n",
    "df_combined = pd.concat([df, df2], ignore_index=True)\n",
    "print(df_combined)"
   ]
  },
  {
   "cell_type": "code",
   "execution_count": 163,
   "id": "21fb3fb0",
   "metadata": {},
   "outputs": [
    {
     "name": "stdout",
     "output_type": "stream",
     "text": [
      "                          Full Name   Age Department_x  Salary   Join Date  \\\n",
      "0              (Erica, Erica Riley)  55.0           IT   80800  2015-12-30   \n",
      "1       (Kenneth, Kenneth Williams)  21.0   Operations   80800  2020-09-15   \n",
      "2               (Kevin, Kevin Sims)  53.0      Finance   80800  2018-04-27   \n",
      "3          (Felicia, Felicia Price)  55.0   Operations   80800  2018-10-20   \n",
      "4         (Jeffrey, Jeffrey Baxter)  28.0   Operations   80800  2015-09-05   \n",
      "..                              ...   ...          ...     ...         ...   \n",
      "995            (Julia, Julia Ellis)  54.0      Finance   80800  2019-05-04   \n",
      "996       (Joshua, Joshua Martinez)  58.0           IT   80800  2022-11-27   \n",
      "997      (Michelle, Michelle James)  44.0      Finance   80800  2021-06-25   \n",
      "998          (Joshua, Joshua Kelly)  20.0           HR   80800  2017-04-21   \n",
      "999  (Margaret, Margaret Fernandez)  35.0    Marketing   80800  2023-09-25   \n",
      "\n",
      "     Age Plus 5 Department_y  \n",
      "0          60.0          NaN  \n",
      "1          26.0          NaN  \n",
      "2          58.0          NaN  \n",
      "3          60.0          NaN  \n",
      "4          33.0          NaN  \n",
      "..          ...          ...  \n",
      "995        59.0          NaN  \n",
      "996        63.0          NaN  \n",
      "997        49.0          NaN  \n",
      "998        25.0          NaN  \n",
      "999        40.0          NaN  \n",
      "\n",
      "[1000 rows x 7 columns]\n"
     ]
    }
   ],
   "source": [
    "df3 = pd.DataFrame({'Full Name': ['Alice', 'Bob'], 'Department': ['HR', 'IT']})\n",
    "df_merged = pd.merge(df, df3, on='Full Name', how='left')\n",
    "print(df_merged)"
   ]
  },
  {
   "cell_type": "code",
   "execution_count": 164,
   "id": "a2d3d455",
   "metadata": {},
   "outputs": [
    {
     "name": "stdout",
     "output_type": "stream",
     "text": [
      "       Salary\n",
      "Age          \n",
      "20.0  80800.0\n",
      "21.0  80800.0\n",
      "22.0  80800.0\n",
      "23.0  80800.0\n",
      "24.0  80800.0\n",
      "25.0  80800.0\n",
      "26.0  80800.0\n",
      "27.0  80800.0\n",
      "28.0  80800.0\n",
      "29.0  80800.0\n",
      "30.0  80800.0\n",
      "31.0  80800.0\n",
      "32.0  80800.0\n",
      "33.0  80800.0\n",
      "34.0  80800.0\n",
      "35.0  80800.0\n",
      "36.0  80800.0\n",
      "37.0  80800.0\n",
      "38.0  80800.0\n",
      "39.0  80800.0\n",
      "40.0  80800.0\n",
      "41.0  80800.0\n",
      "42.0  80800.0\n",
      "43.0  80800.0\n",
      "44.0  80800.0\n",
      "45.0  80800.0\n",
      "46.0  80800.0\n",
      "47.0  80800.0\n",
      "48.0  80800.0\n",
      "49.0  80800.0\n",
      "50.0  80800.0\n",
      "51.0  80800.0\n",
      "52.0  80800.0\n",
      "53.0  80800.0\n",
      "54.0  80800.0\n",
      "55.0  80800.0\n",
      "56.0  80800.0\n",
      "57.0  80800.0\n",
      "58.0  80800.0\n",
      "59.0  80800.0\n",
      "60.0  80800.0\n"
     ]
    }
   ],
   "source": [
    "pivot = df.pivot_table(values='Salary', index='Age', aggfunc='mean')\n",
    "print(pivot)"
   ]
  },
  {
   "cell_type": "code",
   "execution_count": 165,
   "id": "de972f8c",
   "metadata": {},
   "outputs": [
    {
     "name": "stdout",
     "output_type": "stream",
     "text": [
      "Age                  float64\n",
      "Department            object\n",
      "Salary                 int64\n",
      "Join Date     datetime64[ns]\n",
      "Age Plus 5           float64\n",
      "dtype: object\n"
     ]
    }
   ],
   "source": [
    "# Example: Assign dates to first two rows only\n",
    "df['Join Date'] = pd.to_datetime('2021-01-01')  # Single date will be broadcast to all rows\n",
    "print(df.dtypes)"
   ]
  },
  {
   "cell_type": "code",
   "execution_count": 166,
   "id": "6ae8f0c8",
   "metadata": {},
   "outputs": [
    {
     "name": "stdout",
     "output_type": "stream",
     "text": [
      "2023-01-01    3\n",
      "2023-01-03    7\n",
      "Freq: 2D, dtype: int64\n"
     ]
    }
   ],
   "source": [
    "ts = pd.Series([1, 2, 3, 4], index=pd.date_range('20230101', periods=4, freq='D'))\n",
    "print(ts.resample('2D').sum())"
   ]
  }
 ],
 "metadata": {
  "kernelspec": {
   "display_name": "Python 3",
   "language": "python",
   "name": "python3"
  },
  "language_info": {
   "codemirror_mode": {
    "name": "ipython",
    "version": 3
   },
   "file_extension": ".py",
   "mimetype": "text/x-python",
   "name": "python",
   "nbconvert_exporter": "python",
   "pygments_lexer": "ipython3",
   "version": "3.12.3"
  }
 },
 "nbformat": 4,
 "nbformat_minor": 5
}
